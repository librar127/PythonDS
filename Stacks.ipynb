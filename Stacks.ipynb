{
 "cells": [
  {
   "cell_type": "markdown",
   "metadata": {},
   "source": [
    "### Python Stack Implementation\n",
    "***\n"
   ]
  },
  {
   "cell_type": "code",
   "execution_count": 16,
   "metadata": {},
   "outputs": [],
   "source": [
    "class MyStack:\n",
    "    \n",
    "    def __init__(self):\n",
    "        self.mystack = list()\n",
    "        \n",
    "    def isEmpty(self):\n",
    "        return len(self.mystack) == 0\n",
    "    \n",
    "    def push(self, item):\n",
    "        self.mystack.append(item)\n",
    "        \n",
    "    def pop(self):\n",
    "        if len(self.mystack) == 0:\n",
    "            return \"Stack is Empty\"\n",
    "        else:\n",
    "            item = self.mystack.pop()            \n",
    "            return item\n",
    "    \n",
    "    def peek(self):\n",
    "        if len(self.mystack) == 0:\n",
    "            return \"Stack is Empty\"\n",
    "        else:\n",
    "            return self.mystack[len(self.mystack) -1]\n",
    "        \n",
    "    def size(self):\n",
    "        return len(self.mystack)"
   ]
  },
  {
   "cell_type": "code",
   "execution_count": 17,
   "metadata": {},
   "outputs": [
    {
     "name": "stdout",
     "output_type": "stream",
     "text": [
      "Stack is Empty\n",
      "Stack is Empty\n",
      "1\n",
      "50\n"
     ]
    }
   ],
   "source": [
    "s1 = MyStack()\n",
    "print(s1.pop())\n",
    "\n",
    "print(s1.peek())\n",
    "\n",
    "s1.push(\"Raj\")\n",
    "\n",
    "print(s1.size())\n",
    "\n",
    "s1.push(50)\n",
    "\n",
    "print(s1.pop())"
   ]
  },
  {
   "cell_type": "markdown",
   "metadata": {},
   "source": [
    "***\n",
    "***\n",
    "\n",
    "\n",
    "\n",
    "### Balanced Parenthesis\n",
    "***"
   ]
  },
  {
   "cell_type": "code",
   "execution_count": 74,
   "metadata": {},
   "outputs": [],
   "source": [
    "opening_parenthesis_list = ['(', '{', '[']\n",
    "closing_parenthesis_list = [')', '}', ']']\n",
    "\n",
    "def checkBalancedParenthesis(parenthesis_expression):\n",
    "    balanced_flag = True\n",
    "    mystack = MyStack()\n",
    "    for each_parenthesis in parenthesis_expression:\n",
    "        if each_parenthesis in opening_parenthesis_list:\n",
    "            mystack.push(each_parenthesis)\n",
    "        else:\n",
    "            if mystack.isEmpty():\n",
    "                balanced_flag = False \n",
    "                break\n",
    "            else:\n",
    "                popped_parenthesis = mystack.pop()\n",
    "                if not closing_parenthesis_list[opening_parenthesis_list.index(popped_parenthesis)] == each_parenthesis:\n",
    "                    balanced_flag = False\n",
    "                    break\n",
    "                    \n",
    "    \n",
    "    if mystack.isEmpty() and balanced_flag == True:\n",
    "        print(\"Expression: {} is balanced\".format(parenthesis_expression))\n",
    "    else:\n",
    "        print(\"Expression: {} is not balanced\".format(parenthesis_expression))\n",
    "                "
   ]
  },
  {
   "cell_type": "code",
   "execution_count": 77,
   "metadata": {},
   "outputs": [
    {
     "name": "stdout",
     "output_type": "stream",
     "text": [
      "Expression: {}[[[[[[]]]]]]((((()))))[ is not balanced\n"
     ]
    }
   ],
   "source": [
    "checkBalancedParenthesis(\"{}[[[[[[]]]]]]((((()))))[\")"
   ]
  },
  {
   "cell_type": "markdown",
   "metadata": {},
   "source": [
    "****\n",
    "****\n",
    "\n",
    "\n",
    "#### Decimal to Binary/Octal/Hexadecimal\n",
    "****"
   ]
  },
  {
   "cell_type": "code",
   "execution_count": 91,
   "metadata": {},
   "outputs": [],
   "source": [
    "def hexDigitToAlphabetMapping(digit):\n",
    "    return  {'10':'A', '11':'B', '12':'C', '13':'D', '14':'E', '15':'F'}[str(digit)]\n",
    "\n",
    "def decimatToOtherBase(input_num, base):\n",
    "    \n",
    "    input_digit = input_num\n",
    "    if input_num < 0 or base < 0:\n",
    "        print(\"Invalid Input:{} or base: {}\".format(input_num, base))\n",
    "        return \n",
    "    \n",
    "    mystack = MyStack()\n",
    "    while input_num > 0:\n",
    "        reminder = input_num % base\n",
    "        if reminder > 9:\n",
    "            mystack.push(hexDigitToAlphabetMapping(reminder))\n",
    "        else:\n",
    "            mystack.push(reminder)\n",
    "            \n",
    "        input_num = input_num // base\n",
    "        \n",
    "    output = \"\"\n",
    "    while not mystack.isEmpty():\n",
    "        output += str(mystack.pop())\n",
    "    print(\"Decimal: {} == Output with base {}: {}\".format(input_digit, base, output))\n",
    "    "
   ]
  },
  {
   "cell_type": "code",
   "execution_count": 98,
   "metadata": {},
   "outputs": [
    {
     "name": "stdout",
     "output_type": "stream",
     "text": [
      "Decimal: 26 == Output with base 26: 10\n"
     ]
    }
   ],
   "source": [
    "decimatToOtherBase(26, 26)"
   ]
  },
  {
   "cell_type": "markdown",
   "metadata": {},
   "source": [
    "***\n",
    "***\n",
    "#### Infix to postfix\n",
    "***"
   ]
  },
  {
   "cell_type": "code",
   "execution_count": 47,
   "metadata": {},
   "outputs": [],
   "source": [
    "def isOpeningParenthesis(char):\n",
    "    if char in '(':\n",
    "        return True\n",
    "    else:\n",
    "        return False\n",
    "    \n",
    "def isClosingParenthesis(char):\n",
    "    if char in ')':\n",
    "        return True\n",
    "    else:\n",
    "        return False\n",
    "    \n",
    "def isOperator(char):\n",
    "    if char in ['+', '-', '*', '/', '^']:\n",
    "        return True\n",
    "    else:\n",
    "        return False\n",
    "    \n",
    "    \n",
    "operator_priority = {\n",
    "    '+':1, \n",
    "    '-':1,\n",
    "    '/':2,\n",
    "    '*':2,\n",
    "    '^':3,\n",
    "    '(':0\n",
    "}\n",
    "\n",
    "def infixToPostfix(input_expression):\n",
    "    mystack = MyStack()\n",
    "    result_expression = \"\"\n",
    "    \n",
    "    for each_char in input_expression:\n",
    "        \n",
    "        if isOperator(each_char):\n",
    "            while (not mystack.isEmpty()) and operator_priority[mystack.peek()] >= operator_priority[each_char]:\n",
    "                result_expression += mystack.pop()   \n",
    "            mystack.push(each_char)\n",
    "\n",
    "        elif isOpeningParenthesis(each_char):\n",
    "            mystack.push(each_char)\n",
    "            \n",
    "        elif isClosingParenthesis(each_char):\n",
    "            while (not isOpeningParenthesis(mystack.peek())):\n",
    "                result_expression += mystack.pop()\n",
    "            mystack.pop()    \n",
    "            \n",
    "        else:\n",
    "            result_expression += each_char \n",
    "        \n",
    "        # print(each_char, '==', result_expression)\n",
    "\n",
    "    while (not mystack.isEmpty()):\n",
    "        result_expression += mystack.pop()\n",
    "    \n",
    "    return result_expression"
   ]
  },
  {
   "cell_type": "code",
   "execution_count": 50,
   "metadata": {},
   "outputs": [
    {
     "name": "stdout",
     "output_type": "stream",
     "text": [
      "Postfix expression 4 input Expression: (L-K/A)*(C/B-A) is: LKA/-CB/A-*\n"
     ]
    }
   ],
   "source": [
    "input_expression = \"(A+B/C*(D+E)-F)\"\n",
    "#input_expression = \"A+B*C/(D-E)\"\n",
    "#input_expression = \"A*B^(C-D)\"\n",
    "input_expression = \"(L-K/A)*(C/B-A)\"\n",
    "print(\"Postfix expression 4 input Expression: {} is: {}\". format(input_expression, infixToPostfix(input_expression)))"
   ]
  },
  {
   "cell_type": "markdown",
   "metadata": {},
   "source": [
    "***\n",
    "***\n",
    "#### Evaluate Postfix Expression\n",
    "***"
   ]
  },
  {
   "cell_type": "code",
   "execution_count": 64,
   "metadata": {},
   "outputs": [],
   "source": [
    "def doMath(operator, first_operand, second_operand):\n",
    "    if operator == '^':\n",
    "        return first_operand ** second_operand\n",
    "    elif operator == '*':\n",
    "        return first_operand * second_operand\n",
    "    elif operator == '/':\n",
    "        return first_operand / second_operand\n",
    "    elif operator == '+':\n",
    "        return first_operand + second_operand\n",
    "    elif operator == '-':\n",
    "        return first_operand - second_operand\n",
    "    \n",
    "def evaluatePostfixExpression(postfix_expression):\n",
    "    mystack = MyStack()\n",
    "    for each_char in postfix_expression:\n",
    "        \n",
    "        if isOperator(each_char):\n",
    "            second_operand = int(mystack.pop())\n",
    "            first_operand = int(mystack.pop())\n",
    "            operator_output = doMath(each_char, first_operand, second_operand)\n",
    "            print(operator_output)\n",
    "            mystack.push(str(operator_output))\n",
    "        else:\n",
    "            mystack.push(each_char)\n",
    "            \n",
    "    return mystack.pop()"
   ]
  },
  {
   "cell_type": "code",
   "execution_count": 66,
   "metadata": {},
   "outputs": [
    {
     "name": "stdout",
     "output_type": "stream",
     "text": [
      "27\n",
      "81\n",
      "9.0\n",
      "result of input expression: 17 10 + 3 * 9 / is: 9.0\n"
     ]
    }
   ],
   "source": [
    "input_expression = \"17 10 + 3 * 9 /\"\n",
    "# input_expression = \"7 8 + 3 2 + /\"\n",
    "input_list = input_expression.split()\n",
    "#print(input_list,'\\n')\n",
    "print(\"result of input expression: {} is: {}\".format(input_expression, evaluatePostfixExpression(input_list)))"
   ]
  },
  {
   "cell_type": "markdown",
   "metadata": {},
   "source": [
    "***\n",
    "***\n",
    "#### Prefix to Postfix\n",
    "***"
   ]
  },
  {
   "cell_type": "markdown",
   "metadata": {},
   "source": [
    "** Algorithm **\n",
    "- Read prefix expression from right to left (or reverse it)\n",
    "- If a symbol is an operand \n",
    "    - Push it onto the stack\n",
    "- If a symbol is an operator\n",
    "    - Pop two operands\n",
    "    - Create string as:\n",
    "        - string = operand1 + operand2 + operator\n",
    "    - Push the string into stack\n",
    "- Repeat until the end of input expression"
   ]
  },
  {
   "cell_type": "code",
   "execution_count": 73,
   "metadata": {},
   "outputs": [],
   "source": [
    "def prefixToPostfix(input_expression):\n",
    "    mystack = MyStack()\n",
    "    for each_char in input_expression[::-1]:\n",
    "        if isOperator(each_char):\n",
    "            operand1 = mystack.pop()\n",
    "            operand2 = mystack.pop()\n",
    "            string = operand1 + operand2 + each_char\n",
    "            mystack.push(string)\n",
    "            \n",
    "        else:\n",
    "            mystack.push(each_char)\n",
    "            \n",
    "    result_expression = ''\n",
    "    while not mystack.isEmpty():\n",
    "        result_expression += mystack.pop()\n",
    "        \n",
    "    return result_expression"
   ]
  },
  {
   "cell_type": "code",
   "execution_count": 74,
   "metadata": {},
   "outputs": [
    {
     "name": "stdout",
     "output_type": "stream",
     "text": [
      "Postfix expression from input expression: *-A/BC-/AKL is: ABC/-AK/L-*\n"
     ]
    }
   ],
   "source": [
    "input_expression = \"*-A/BC-/AKL\"\n",
    "result_expression = prefixToPostfix(input_expression)\n",
    "print(\"Postfix expression from input expression: {} is: {}\".format(input_expression, result_expression))"
   ]
  },
  {
   "cell_type": "markdown",
   "metadata": {},
   "source": [
    "***\n",
    "***\n",
    "### Infix to Prefix\n",
    "***"
   ]
  },
  {
   "cell_type": "code",
   "execution_count": 57,
   "metadata": {},
   "outputs": [],
   "source": [
    "def reverseString(string):\n",
    "    return string[::-1]\n",
    "\n",
    "def flipBrackets(string):\n",
    "    out_string = ''\n",
    "    for each_char in string:\n",
    "        if each_char == ')':\n",
    "            out_string += '('\n",
    "        elif each_char == '(':\n",
    "            out_string += ')'\n",
    "        else:\n",
    "            out_string += each_char\n",
    "            \n",
    "    return out_string\n",
    "\n",
    "def isOpeningBracket(char):\n",
    "    return char == '('\n",
    "\n",
    "def isClosingBracket(char):\n",
    "    return char == ')'\n",
    "\n",
    "def isOperator(char):\n",
    "    if char in ['-', '+', '*', '/', '^']:\n",
    "        return True\n",
    "    else:\n",
    "        return False\n",
    "    \n",
    "operator_priority = {\n",
    "    '(' : 0,\n",
    "    '+' : 1,\n",
    "    '-' : 1,\n",
    "    '*' : 2,\n",
    "    '/' : 2,\n",
    "    '^' : 3\n",
    "}\n",
    "\n",
    "def infixToPostfix(input_expression):\n",
    "    mystack = MyStack()\n",
    "    result_expression = ''\n",
    "    \n",
    "    for each_char in input_expression:\n",
    "        \n",
    "        if isOpeningBracket(each_char):\n",
    "            mystack.push(each_char)\n",
    "            \n",
    "        elif isClosingBracket(each_char):\n",
    "            while not isOpeningBracket(mystack.peek()):\n",
    "                result_expression += mystack.pop()\n",
    "            mystack.pop() # this is for removing opening bracket\n",
    "            \n",
    "        elif isOperator(each_char):\n",
    "            while (not mystack.isEmpty()) and (operator_priority[mystack.peek()] >= operator_priority[each_char]):\n",
    "                result_expression += mystack.pop()\n",
    "            mystack.push(each_char)\n",
    "            \n",
    "        else: # if a char is operand\n",
    "            result_expression += each_char\n",
    "            \n",
    "    while not mystack.isEmpty():\n",
    "        result_expression += mystack.pop()\n",
    "        \n",
    "    return result_expression\n",
    "\n",
    "def infixToPrefix(input_expression):\n",
    "    reverse_expression = reverseString(input_expression)\n",
    "    fliped_expression = flipBrackets(reverse_expression)\n",
    "    postfix_expression = infixToPostfix(fliped_expression)\n",
    "    prefix_expression = reverseString(postfix_expression)\n",
    "    \n",
    "    '''\n",
    "    print('Input: {}, Reverse: {}, FlipBracket: {}, Postfix: {}, Prefix: {}'.format(input_expresion, \\\n",
    "                                                                                    reverse_expression, \\\n",
    "                                                                                    fliped_expression, \\\n",
    "                                                                                    postfix_expression, \\\n",
    "                                                                                    prefix_expression))\n",
    "    '''\n",
    "    return prefix_expression"
   ]
  },
  {
   "cell_type": "code",
   "execution_count": 60,
   "metadata": {},
   "outputs": [
    {
     "name": "stdout",
     "output_type": "stream",
     "text": [
      "\n",
      "Prefix expression from infix expression: (A-B/C)*(A/K-L) is: *-A/BC-/AKL\n"
     ]
    }
   ],
   "source": [
    "input_expresion = '(A - B/C) * (A/K-L)'\n",
    "input_expresion_list = input_expresion.split()\n",
    "input_expresion = ''.join(input_expresion_list)\n",
    "prefix_expression = infixToPrefix(input_expresion)\n",
    "\n",
    "print('\\nPrefix expression from infix expression: {} is: {}'.format(input_expresion, prefix_expression))"
   ]
  },
  {
   "cell_type": "markdown",
   "metadata": {},
   "source": [
    "#### ==== ** DONE WITh STACKS ** ===="
   ]
  }
 ],
 "metadata": {
  "kernelspec": {
   "display_name": "Python 3",
   "language": "python",
   "name": "python3"
  },
  "language_info": {
   "codemirror_mode": {
    "name": "ipython",
    "version": 3
   },
   "file_extension": ".py",
   "mimetype": "text/x-python",
   "name": "python",
   "nbconvert_exporter": "python",
   "pygments_lexer": "ipython3",
   "version": "3.6.7"
  }
 },
 "nbformat": 4,
 "nbformat_minor": 2
}
