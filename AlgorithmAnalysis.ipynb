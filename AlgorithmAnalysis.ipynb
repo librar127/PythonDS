{
 "cells": [
  {
   "cell_type": "code",
   "execution_count": 2,
   "metadata": {},
   "outputs": [],
   "source": [
    "import random"
   ]
  },
  {
   "cell_type": "code",
   "execution_count": 3,
   "metadata": {},
   "outputs": [],
   "source": [
    "list_of_10 = random.sample(range(1, 100), 10)"
   ]
  },
  {
   "cell_type": "code",
   "execution_count": 4,
   "metadata": {},
   "outputs": [
    {
     "data": {
      "text/plain": [
       "[97, 94, 64, 90, 86, 45, 14, 83, 67, 48]"
      ]
     },
     "execution_count": 4,
     "metadata": {},
     "output_type": "execute_result"
    }
   ],
   "source": [
    "list_of_10"
   ]
  },
  {
   "cell_type": "markdown",
   "metadata": {},
   "source": [
    "#### Find the minimum in O(n^2)"
   ]
  },
  {
   "cell_type": "code",
   "execution_count": 6,
   "metadata": {},
   "outputs": [
    {
     "name": "stdout",
     "output_type": "stream",
     "text": [
      "Minimum:  20\n"
     ]
    }
   ],
   "source": [
    "minimum = list_of_10[0]\n",
    "for i in list_of_10:\n",
    "    for j in list_of_10:\n",
    "        if i > j:\n",
    "            minimum = j\n",
    "            \n",
    "print(\"Minimum: \", minimum)"
   ]
  },
  {
   "cell_type": "markdown",
   "metadata": {},
   "source": [
    "#### Find the Minimum in O(n)"
   ]
  },
  {
   "cell_type": "code",
   "execution_count": 7,
   "metadata": {},
   "outputs": [
    {
     "name": "stdout",
     "output_type": "stream",
     "text": [
      "minimum:  20\n"
     ]
    }
   ],
   "source": [
    "minimum = list_of_10[0]\n",
    "\n",
    "for i in list_of_10:\n",
    "    if i < minimum:\n",
    "        minimum = i\n",
    "        \n",
    "print(\"minimum: \", minimum)"
   ]
  },
  {
   "cell_type": "markdown",
   "metadata": {},
   "source": [
    "### Anagram Detection Problem"
   ]
  },
  {
   "cell_type": "code",
   "execution_count": 8,
   "metadata": {},
   "outputs": [],
   "source": [
    "def checkAnagram (str1, str2):\n",
    "    \n",
    "    list1 = [0]*26\n",
    "    list2 = [0]*26\n",
    "    anagram_flag = True\n",
    "    \n",
    "    if len(str1) == (str2):\n",
    "        anagram_flag = False\n",
    "    \n",
    "    if anagram_flag == True:\n",
    "        for each_char in str1:\n",
    "            list1[ord(each_char)-97] = list1[ord(each_char)-97]+1\n",
    "\n",
    "\n",
    "        for each_char in str2:\n",
    "            list2[ord(each_char)-97] = list2[ord(each_char)-97]+1\n",
    "\n",
    "\n",
    "        for each_item, index in enumerate(list1):\n",
    "            if list1[index] == list2[index]:\n",
    "                continue\n",
    "            else:            \n",
    "                anagram_flag = False\n",
    "                break\n",
    "            \n",
    "    if anagram_flag:\n",
    "        print(\"Strings {} and {} are anagrams\".format(str1, str2))\n",
    "    else:\n",
    "        print(\"Strings {} and {} are not anagrams\".format(str1, str2))"
   ]
  },
  {
   "cell_type": "code",
   "execution_count": 10,
   "metadata": {},
   "outputs": [
    {
     "name": "stdout",
     "output_type": "stream",
     "text": [
      "Strings apple and paple are anagrams\n"
     ]
    }
   ],
   "source": [
    "checkAnagram('apple', 'paple')"
   ]
  },
  {
   "cell_type": "markdown",
   "metadata": {},
   "source": [
    "#### kth Smallest in O(n log(n)) time"
   ]
  },
  {
   "cell_type": "markdown",
   "metadata": {},
   "source": [
    "##### Simple \n",
    "- Sort the array and find the kth element"
   ]
  },
  {
   "cell_type": "code",
   "execution_count": 13,
   "metadata": {},
   "outputs": [
    {
     "name": "stdout",
     "output_type": "stream",
     "text": [
      "[20, 45, 46, 52, 53, 61, 67, 70, 89, 95]\n"
     ]
    }
   ],
   "source": [
    "list_of_10.sort()\n",
    "print(list_of_10)"
   ]
  },
  {
   "cell_type": "code",
   "execution_count": 15,
   "metadata": {},
   "outputs": [],
   "source": [
    "def find_kth_minimum(list_of_n, k):\n",
    "    return list_of_n[k-1]"
   ]
  },
  {
   "cell_type": "code",
   "execution_count": 17,
   "metadata": {},
   "outputs": [
    {
     "name": "stdout",
     "output_type": "stream",
     "text": [
      "53\n"
     ]
    }
   ],
   "source": [
    "print(find_kth_minimum(list_of_10, 5))"
   ]
  },
  {
   "cell_type": "markdown",
   "metadata": {},
   "source": [
    "#### kth Smallest in O(n) time\n",
    "- https://www.geeksforgeeks.org/kth-smallestlargest-element-unsorted-array-set-2-expected-linear-time/\n",
    "- https://www.geeksforgeeks.org/kth-smallestlargest-element-unsorted-array-set-3-worst-case-linear-time/"
   ]
  },
  {
   "cell_type": "code",
   "execution_count": 9,
   "metadata": {},
   "outputs": [
    {
     "name": "stdout",
     "output_type": "stream",
     "text": [
      "K'th smallest element is 48\n"
     ]
    }
   ],
   "source": [
    "# Python3 implementation of randomized quickSelect \n",
    "import random \n",
    "\n",
    "# This function returns k'th smallest element in arr[l..r] using QuickSort \n",
    "# based method. ASSUMPTION: ELEMENTS IN ARR[] ARE DISTINCT \n",
    "def kthSmallest(arr, l, r, k): \n",
    "\n",
    "    # If k is smaller than number of elements in array \n",
    "    if (k > 0 and k <= r - l + 1): \n",
    "\n",
    "        # Partition the array around a random element and get position of pivot element in sorted array \n",
    "        pos = randomPartition(arr, l, r) \n",
    "\n",
    "        # If position is same as k \n",
    "        if (pos - l == k - 1): \n",
    "            return arr[pos] \n",
    "        if (pos - l > k - 1): # If position is more, recur for left subarray \n",
    "            return kthSmallest(arr, l, pos - 1, k) \n",
    "\n",
    "        # Else recur for right subarray \n",
    "        return kthSmallest(arr, pos + 1, r, k - pos + l - 1) \n",
    "\n",
    "    # If k is more than the number of elements in the array \n",
    "    return 999999999999\n",
    "\n",
    "def swap(arr, a, b): \n",
    "    temp = arr[a] \n",
    "    arr[a] = arr[b] \n",
    "    arr[b] = temp \n",
    "\n",
    "# Standard partition process of QuickSort(). It considers the last element as pivot and moves all smaller \n",
    "# element to left of it and greater elements to right. This function is used by randomPartition() \n",
    "def partition(arr, l, r): \n",
    "    x = arr[r] \n",
    "    i = l \n",
    "    for j in range(l, r): \n",
    "        if (arr[j] <= x): \n",
    "            swap(arr, i, j) \n",
    "            i += 1\n",
    "    swap(arr, i, r) \n",
    "    return i \n",
    "\n",
    "# Picks a random pivot between l and r and partitions arr[l..r] around the randomly picked element using partition() \n",
    "def randomPartition(arr, l, r): \n",
    "    n = r - l + 1\n",
    "    pivot = int(random.random() % n) \n",
    "    swap(arr, l + pivot, r) \n",
    "    return partition(arr, l, r) \n",
    "\n",
    "# Driver Code \n",
    "if __name__ == '__main__': \n",
    "\n",
    "    arr = list_of_10 #[12, 3, 5, 7, 4, 19, 26] \n",
    "    n = len(arr) \n",
    "    k = 3\n",
    "    print(\"K'th smallest element is\", kthSmallest(arr, 0, n - 1, k)) "
   ]
  },
  {
   "cell_type": "code",
   "execution_count": 8,
   "metadata": {},
   "outputs": [
    {
     "data": {
      "text/plain": [
       "[14, 45, 48, 64, 67, 83, 86, 90, 94, 97]"
      ]
     },
     "execution_count": 8,
     "metadata": {},
     "output_type": "execute_result"
    }
   ],
   "source": [
    "sorted(list_of_10)"
   ]
  },
  {
   "cell_type": "code",
   "execution_count": 12,
   "metadata": {},
   "outputs": [
    {
     "data": {
      "text/plain": [
       "[9, 8, 7, 6, 5, 4, 3, 2, 1, 0]"
      ]
     },
     "execution_count": 12,
     "metadata": {},
     "output_type": "execute_result"
    }
   ],
   "source": [
    "list(range(10 - 1, -1, -1))"
   ]
  },
  {
   "cell_type": "code",
   "execution_count": null,
   "metadata": {},
   "outputs": [],
   "source": []
  }
 ],
 "metadata": {
  "kernelspec": {
   "display_name": "Python 3",
   "language": "python",
   "name": "python3"
  },
  "language_info": {
   "codemirror_mode": {
    "name": "ipython",
    "version": 3
   },
   "file_extension": ".py",
   "mimetype": "text/x-python",
   "name": "python",
   "nbconvert_exporter": "python",
   "pygments_lexer": "ipython3",
   "version": "3.6.7"
  }
 },
 "nbformat": 4,
 "nbformat_minor": 2
}
